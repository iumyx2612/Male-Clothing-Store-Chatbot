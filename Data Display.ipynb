{
 "cells": [
  {
   "cell_type": "code",
   "execution_count": 1,
   "metadata": {},
   "outputs": [],
   "source": [
    "import json"
   ]
  },
  {
   "cell_type": "code",
   "execution_count": 2,
   "metadata": {},
   "outputs": [],
   "source": [
    "with open(\"intents.json\") as file:\n",
    "    data = json.load(file)"
   ]
  },
  {
   "cell_type": "code",
   "execution_count": 3,
   "metadata": {},
   "outputs": [],
   "source": [
    "labels = []\n",
    "sentences = []\n",
    "label_sentence = []\n",
    "\n",
    "for intent in data[\"intents\"]:\n",
    "    if intent[\"tag\"] not in labels:\n",
    "        labels.append(intent[\"tag\"])\n",
    "    for pattern in intent[\"inputs\"]:\n",
    "        sentences.append(pattern)\n",
    "        label_sentence.append(intent[\"tag\"])\n"
   ]
  },
  {
   "cell_type": "code",
   "execution_count": 4,
   "metadata": {},
   "outputs": [
    {
     "name": "stdout",
     "output_type": "stream",
     "text": [
      "labels:  ['greeting', 'goodbye', 'thanks', 'hours', 'payments', 'question', 'S', 'M', 'L'] \n",
      "\n",
      "sentences:  ['Hi', 'How are you', 'Is anyone there?', 'Hello', 'Good day', 'I want to ask something', 'Help', 'I need help', 'Knock knock', 'Bye', 'See you later', 'Goodbye', 'Cya', 'Ciao', 'Bye bye', 'Nothing I need anymore', 'Thanks', 'Thank you', \"That's helpful\", 'Good idea', 'What hours are you open?', 'What are your hours?', 'When are you open?', 'What is the shop open time?', 'Do you take credit cards?', 'Do you accept Mastercard?', 'Are you cash only?', 'Can I pay with credit cards?', 'Do you take online payment?', 'Do you have any suggestions?', 'Can you give me some hint?', 'What should I wear?', 'What kind of clothes I should take?', \"I'm 1m60 and 55 kilos\", \"I'm 160cm and 55 kilos\", '1m63 and 56 kilos', '160cm and 58 kilos', '1m61 and 57 kilos', '160cm and 58 kilos', '1m65 and 60 kilos', '1m63 and 60 kilos', '163cm and 55 kilos', \"I'm 1m64 and 60 kilos\", \"I'm 164cm and 65 kilos\", '1m67 and 63 kilos', '167cm and 61 kilos', '1m65 and 62 kilos', '165cm and 60 kilos', '1m68 and 62 kilos', '1m66 and 64 kilos', '169cm and 65 kilos', \"I'm 1m70 and 68 kilos\", \"I'm 170cm and 69 kilos\", '1m72 and 68 kilos', '171cm and 67 kilos', '1m72 and 70 kilos', '173cm and 66 kilos', '1m73 and 67 kilos', '1m74 and 70 kilos', '174cm and 66 kilos'] \n",
      "\n",
      "label_sentences:  ['greeting', 'greeting', 'greeting', 'greeting', 'greeting', 'greeting', 'greeting', 'greeting', 'greeting', 'goodbye', 'goodbye', 'goodbye', 'goodbye', 'goodbye', 'goodbye', 'goodbye', 'thanks', 'thanks', 'thanks', 'thanks', 'hours', 'hours', 'hours', 'hours', 'payments', 'payments', 'payments', 'payments', 'payments', 'question', 'question', 'question', 'question', 'S', 'S', 'S', 'S', 'S', 'S', 'S', 'S', 'S', 'M', 'M', 'M', 'M', 'M', 'M', 'M', 'M', 'M', 'L', 'L', 'L', 'L', 'L', 'L', 'L', 'L', 'L']\n"
     ]
    }
   ],
   "source": [
    "print(\"labels: \", labels, \"\\n\")\n",
    "print(\"sentences: \", sentences, \"\\n\")\n",
    "print(\"label_sentences: \", label_sentence)"
   ]
  },
  {
   "cell_type": "code",
   "execution_count": 5,
   "metadata": {},
   "outputs": [
    {
     "name": "stderr",
     "output_type": "stream",
     "text": [
      "Using TensorFlow backend.\n"
     ]
    }
   ],
   "source": [
    "import keras\n",
    "from keras.preprocessing.text import Tokenizer"
   ]
  },
  {
   "cell_type": "code",
   "execution_count": 6,
   "metadata": {},
   "outputs": [],
   "source": [
    "tokenizer = Tokenizer(oov_token=\"<OOV>\")\n",
    "\n",
    "tokenizer.fit_on_texts(sentences)\n",
    "word_index = tokenizer.word_index"
   ]
  },
  {
   "cell_type": "code",
   "execution_count": 7,
   "metadata": {},
   "outputs": [
    {
     "name": "stdout",
     "output_type": "stream",
     "text": [
      "{'<OOV>': 1, 'and': 2, 'kilos': 3, 'you': 4, 'i': 5, \"i'm\": 6, 'are': 7, 'what': 8, 'do': 9, '60': 10, 'bye': 11, 'open': 12, 'take': 13, '55': 14, '160cm': 15, 'is': 16, 'good': 17, 'help': 18, 'need': 19, 'knock': 20, 'hours': 21, 'credit': 22, 'cards': 23, 'can': 24, 'should': 25, '1m63': 26, '58': 27, '1m65': 28, '65': 29, '62': 30, '68': 31, '1m72': 32, '67': 33, '70': 34, '66': 35, 'hi': 36, 'how': 37, 'anyone': 38, 'there': 39, 'hello': 40, 'day': 41, 'want': 42, 'to': 43, 'ask': 44, 'something': 45, 'see': 46, 'later': 47, 'goodbye': 48, 'cya': 49, 'ciao': 50, 'nothing': 51, 'anymore': 52, 'thanks': 53, 'thank': 54, \"that's\": 55, 'helpful': 56, 'idea': 57, 'your': 58, 'when': 59, 'the': 60, 'shop': 61, 'time': 62, 'accept': 63, 'mastercard': 64, 'cash': 65, 'only': 66, 'pay': 67, 'with': 68, 'online': 69, 'payment': 70, 'have': 71, 'any': 72, 'suggestions': 73, 'give': 74, 'me': 75, 'some': 76, 'hint': 77, 'wear': 78, 'kind': 79, 'of': 80, 'clothes': 81, '1m60': 82, '56': 83, '1m61': 84, '57': 85, '163cm': 86, '1m64': 87, '164cm': 88, '1m67': 89, '63': 90, '167cm': 91, '61': 92, '165cm': 93, '1m68': 94, '1m66': 95, '64': 96, '169cm': 97, '1m70': 98, '170cm': 99, '69': 100, '171cm': 101, '173cm': 102, '1m73': 103, '1m74': 104, '174cm': 105}\n"
     ]
    }
   ],
   "source": [
    "print(word_index)"
   ]
  },
  {
   "cell_type": "code",
   "execution_count": 8,
   "metadata": {},
   "outputs": [],
   "source": [
    "sequences = tokenizer.texts_to_sequences(sentences)"
   ]
  },
  {
   "cell_type": "code",
   "execution_count": 9,
   "metadata": {},
   "outputs": [
    {
     "name": "stdout",
     "output_type": "stream",
     "text": [
      "[[36], [37, 7, 4], [16, 38, 39], [40], [17, 41], [5, 42, 43, 44, 45], [18], [5, 19, 18], [20, 20], [11], [46, 4, 47], [48], [49], [50], [11, 11], [51, 5, 19, 52], [53], [54, 4], [55, 56], [17, 57], [8, 21, 7, 4, 12], [8, 7, 58, 21], [59, 7, 4, 12], [8, 16, 60, 61, 12, 62], [9, 4, 13, 22, 23], [9, 4, 63, 64], [7, 4, 65, 66], [24, 5, 67, 68, 22, 23], [9, 4, 13, 69, 70], [9, 4, 71, 72, 73], [24, 4, 74, 75, 76, 77], [8, 25, 5, 78], [8, 79, 80, 81, 5, 25, 13], [6, 82, 2, 14, 3], [6, 15, 2, 14, 3], [26, 2, 83, 3], [15, 2, 27, 3], [84, 2, 85, 3], [15, 2, 27, 3], [28, 2, 10, 3], [26, 2, 10, 3], [86, 2, 14, 3], [6, 87, 2, 10, 3], [6, 88, 2, 29, 3], [89, 2, 90, 3], [91, 2, 92, 3], [28, 2, 30, 3], [93, 2, 10, 3], [94, 2, 30, 3], [95, 2, 96, 3], [97, 2, 29, 3], [6, 98, 2, 31, 3], [6, 99, 2, 100, 3], [32, 2, 31, 3], [101, 2, 33, 3], [32, 2, 34, 3], [102, 2, 35, 3], [103, 2, 33, 3], [104, 2, 34, 3], [105, 2, 35, 3]]\n"
     ]
    }
   ],
   "source": [
    "print(sequences)"
   ]
  },
  {
   "cell_type": "code",
   "execution_count": 10,
   "metadata": {},
   "outputs": [],
   "source": [
    "from keras.preprocessing.sequence import pad_sequences"
   ]
  },
  {
   "cell_type": "code",
   "execution_count": 11,
   "metadata": {},
   "outputs": [],
   "source": [
    "max_len = 30\n",
    "_padding = \"post\"\n",
    "_truncating = \"post\"\n",
    "padded = pad_sequences(sequences, maxlen= max_len, padding=_padding, truncating=_truncating)"
   ]
  },
  {
   "cell_type": "code",
   "execution_count": 12,
   "metadata": {},
   "outputs": [
    {
     "name": "stdout",
     "output_type": "stream",
     "text": [
      "[[ 36   0   0 ...   0   0   0]\n",
      " [ 37   7   4 ...   0   0   0]\n",
      " [ 16  38  39 ...   0   0   0]\n",
      " ...\n",
      " [103   2  33 ...   0   0   0]\n",
      " [104   2  34 ...   0   0   0]\n",
      " [105   2  35 ...   0   0   0]]\n"
     ]
    }
   ],
   "source": [
    "print(padded)"
   ]
  },
  {
   "cell_type": "code",
   "execution_count": 13,
   "metadata": {},
   "outputs": [],
   "source": [
    "from sklearn.preprocessing import LabelEncoder"
   ]
  },
  {
   "cell_type": "code",
   "execution_count": 14,
   "metadata": {},
   "outputs": [],
   "source": [
    "enc = LabelEncoder()\n",
    "enc.fit(label_sentence)\n",
    "label_sentence = enc.transform(label_sentence)"
   ]
  },
  {
   "cell_type": "code",
   "execution_count": 15,
   "metadata": {},
   "outputs": [
    {
     "name": "stdout",
     "output_type": "stream",
     "text": [
      "[4 4 4 4 4 4 4 4 4 3 3 3 3 3 3 3 8 8 8 8 5 5 5 5 6 6 6 6 6 7 7 7 7 2 2 2 2\n",
      " 2 2 2 2 2 1 1 1 1 1 1 1 1 1 0 0 0 0 0 0 0 0 0]\n"
     ]
    }
   ],
   "source": [
    "print(label_sentence)"
   ]
  },
  {
   "cell_type": "code",
   "execution_count": null,
   "metadata": {},
   "outputs": [],
   "source": []
  }
 ],
 "metadata": {
  "kernelspec": {
   "display_name": "Python 3",
   "language": "python",
   "name": "python3"
  },
  "language_info": {
   "codemirror_mode": {
    "name": "ipython",
    "version": 3
   },
   "file_extension": ".py",
   "mimetype": "text/x-python",
   "name": "python",
   "nbconvert_exporter": "python",
   "pygments_lexer": "ipython3",
   "version": "3.7.7"
  }
 },
 "nbformat": 4,
 "nbformat_minor": 4
}
